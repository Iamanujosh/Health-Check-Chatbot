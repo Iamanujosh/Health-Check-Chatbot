{
 "cells": [
  {
   "cell_type": "code",
   "execution_count": 10,
   "id": "7d39e73b-9a2e-46c6-b12a-09d0ebe4ef70",
   "metadata": {},
   "outputs": [
    {
     "name": "stdout",
     "output_type": "stream",
     "text": [
      "File 'human_vital_signs_dataset_2024.csv' found in the directory.\n"
     ]
    }
   ],
   "source": [
    "\n",
    "import pandas as pd\n",
    "import os\n",
    "from sklearn.model_selection import train_test_split\n",
    "from sklearn.linear_model import LogisticRegression\n",
    "from sklearn.metrics import accuracy_score\n",
    "\n",
    "\n",
    "DATASET_FILE = 'human_vital_signs_dataset_2024.csv'  \n",
    "\n",
    "\n",
    "if not os.path.isfile(DATASET_FILE):\n",
    "    print(f\"File '{DATASET_FILE}' does not exist in the directory.\")\n",
    "    exit()\n",
    "else:\n",
    "    print(f\"File '{DATASET_FILE}' found in the directory.\")\n"
   ]
  },
  {
   "cell_type": "code",
   "execution_count": 11,
   "id": "c55ebaaf-59d0-41a4-aa7d-5b38c2fedaee",
   "metadata": {},
   "outputs": [],
   "source": [
    "\n",
    "def load_dataset():\n",
    "    df = pd.read_csv(DATASET_FILE)\n",
    "    df.columns = df.columns.str.strip()  # Trim whitespace from column names\n",
    "    print(\"Dataset columns:\", df.columns.tolist())  # Print the columns to verify\n",
    "    print(\"First few rows of the dataset:\")\n",
    "    print(df.head())  # Display the first few rows of the dataset\n",
    "    return df\n"
   ]
  },
  {
   "cell_type": "code",
   "execution_count": 13,
   "id": "84010a9d-c13a-4788-b00b-e426e63aca98",
   "metadata": {},
   "outputs": [],
   "source": [
    "\n",
    "def train_ml_model():\n",
    "    # Load the dataset\n",
    "    df = load_dataset()\n",
    "\n",
    "    \n",
    "    required_columns = ['Heart Rate', 'Respiratory Rate', 'Body Temperature', \n",
    "                        'Oxygen Saturation', 'Systolic Blood Pressure', 'Diastolic Blood Pressure', 'Risk Category']\n",
    "    for col in required_columns:\n",
    "        if col not in df.columns:\n",
    "            raise KeyError(f\"Column '{col}' not found in dataset. Available columns: {df.columns.tolist()}\")\n",
    "\n",
    "    \n",
    "    X = df[['Heart Rate', 'Respiratory Rate', 'Body Temperature', \n",
    "             'Oxygen Saturation', 'Systolic Blood Pressure', 'Diastolic Blood Pressure']]\n",
    "    y = df['Risk Category']\n",
    "\n",
    "    \n",
    "    X_train, X_test, y_train, y_test = train_test_split(X, y, test_size=0.2, random_state=42)\n",
    "\n",
    "    \n",
    "    model = LogisticRegression()\n",
    "    model.fit(X_train, y_train)\n",
    "\n",
    "    \n",
    "    y_pred = model.predict(X_test)\n",
    "    accuracy = accuracy_score(y_test, y_pred)\n",
    "    print(f'Model accuracy: {accuracy:.2f}')\n",
    "\n",
    "    return model\n"
   ]
  },
  {
   "cell_type": "code",
   "execution_count": 14,
   "id": "8e444b8a-e6f4-4ca1-8034-41405dd2e757",
   "metadata": {},
   "outputs": [],
   "source": [
    "\n",
    "def predict_risk_with_ml(model, heart_rate, respiratory_rate, body_temperature, \n",
    "                          oxygen_saturation, systolic_blood_pressure, diastolic_blood_pressure):\n",
    "    \n",
    "    input_data = [[heart_rate, respiratory_rate, body_temperature, \n",
    "                   oxygen_saturation, systolic_blood_pressure, diastolic_blood_pressure]]\n",
    "\n",
    "    \n",
    "    prediction = model.predict(input_data)\n",
    "\n",
    "    return prediction[0]  # Return the numerical prediction (0 or 1)\n"
   ]
  },
  {
   "cell_type": "code",
   "execution_count": 15,
   "id": "f4f0fbfb-9b0a-49f6-a101-012a2af2ce86",
   "metadata": {},
   "outputs": [],
   "source": [
    "\n",
    "def generate_issues_report(risk_category):\n",
    "    issues = {\n",
    "        \"Low Risk\": \"No immediate concerns detected. Maintain a healthy lifestyle.\",\n",
    "        \"High Risk\": \"Possible health issues detected. Consider consulting a healthcare provider. Conditions may include hypertension, respiratory distress, or other cardiovascular issues.\"\n",
    "    }\n",
    "\n",
    "    with open('patient_issues_report.txt', 'w') as file:\n",
    "        file.write(f\"Predicted Risk Category: {risk_category}\\n\")\n",
    "        file.write(\"Health Issues:\\n\")\n",
    "        file.write(issues[risk_category] + \"\\n\")\n",
    "    \n",
    "    print(\"Issues report generated as 'patient_issues_report.txt'.\")\n"
   ]
  },
  {
   "cell_type": "code",
   "execution_count": 16,
   "id": "f7f2a06c-aed6-43f8-833f-151d8fb5b49d",
   "metadata": {},
   "outputs": [
    {
     "name": "stdout",
     "output_type": "stream",
     "text": [
      "Dataset columns: ['Patient ID', 'Heart Rate', 'Respiratory Rate', 'Timestamp', 'Body Temperature', 'Oxygen Saturation', 'Systolic Blood Pressure', 'Diastolic Blood Pressure', 'Age', 'Gender', 'Weight (kg)', 'Height (m)', 'Derived_HRV', 'Derived_Pulse_Pressure', 'Derived_BMI', 'Derived_MAP', 'Risk Category']\n",
      "First few rows of the dataset:\n",
      "   Patient ID  Heart Rate  Respiratory Rate Timestamp  Body Temperature  \\\n",
      "0           1          60                12   53:45.7         36.861707   \n",
      "1           2          63                18   52:45.7         36.511633   \n",
      "2           3          63                15   51:45.7         37.052049   \n",
      "3           4          99                16   50:45.7         36.654747   \n",
      "4           5          69                16   49:45.7         36.975098   \n",
      "\n",
      "   Oxygen Saturation  Systolic Blood Pressure  Diastolic Blood Pressure  Age  \\\n",
      "0          95.702046                      124                        86   37   \n",
      "1          96.689413                      126                        84   77   \n",
      "2          98.508265                      131                        78   68   \n",
      "3          95.011801                      118                        72   41   \n",
      "4          98.623792                      138                        76   25   \n",
      "\n",
      "   Gender  Weight (kg)  Height (m)  Derived_HRV  Derived_Pulse_Pressure  \\\n",
      "0  Female    91.541618    1.679351     0.121033                      38   \n",
      "1    Male    50.704921    1.992546     0.117062                      42   \n",
      "2  Female    90.316760    1.770228     0.053200                      53   \n",
      "3  Female    96.006188    1.833629     0.064475                      46   \n",
      "4  Female    56.020006    1.866419     0.118484                      62   \n",
      "\n",
      "   Derived_BMI  Derived_MAP Risk Category  \n",
      "0    32.459031    98.666667     High Risk  \n",
      "1    12.771246    98.000000     High Risk  \n",
      "2    28.821069    95.666667      Low Risk  \n",
      "3    28.554611    87.333333     High Risk  \n",
      "4    16.081438    96.666667     High Risk  \n",
      "Model accuracy: 0.63\n"
     ]
    },
    {
     "name": "stdin",
     "output_type": "stream",
     "text": [
      "Enter Heart Rate (bpm):  69\n",
      "Enter Respiratory Rate (breaths/min):  69\n",
      "Enter Body Temperature (°C):  70\n",
      "Enter Oxygen Saturation (%):  75\n",
      "Enter Systolic Blood Pressure (mmHg):  78\n",
      "Enter Diastolic Blood Pressure (mmHg):  80\n"
     ]
    },
    {
     "name": "stdout",
     "output_type": "stream",
     "text": [
      "Predicted Risk Category: Low Risk\n",
      "Issues report generated as 'patient_issues_report.txt'.\n"
     ]
    },
    {
     "name": "stderr",
     "output_type": "stream",
     "text": [
      "C:\\Users\\HP\\AppData\\Local\\Programs\\Python\\Python312\\Lib\\site-packages\\sklearn\\base.py:493: UserWarning: X does not have valid feature names, but LogisticRegression was fitted with feature names\n",
      "  warnings.warn(\n"
     ]
    }
   ],
   "source": [
    "def main():\n",
    "    # Train the ML model\n",
    "    model = train_ml_model()\n",
    "\n",
    "    # Input vital signs from the user\n",
    "    heart_rate = int(input(\"Enter Heart Rate (bpm): \"))\n",
    "    respiratory_rate = int(input(\"Enter Respiratory Rate (breaths/min): \"))\n",
    "    body_temperature = float(input(\"Enter Body Temperature (°C): \"))\n",
    "    oxygen_saturation = int(input(\"Enter Oxygen Saturation (%): \"))\n",
    "    systolic_blood_pressure = int(input(\"Enter Systolic Blood Pressure (mmHg): \"))\n",
    "    diastolic_blood_pressure = int(input(\"Enter Diastolic Blood Pressure (mmHg): \"))\n",
    "\n",
    "    # Predict risk using the ML model\n",
    "    risk_category_num = predict_risk_with_ml(model, heart_rate, respiratory_rate, body_temperature, \n",
    "                                              oxygen_saturation, systolic_blood_pressure, diastolic_blood_pressure)\n",
    "\n",
    "    risk_category = \"High Risk\" if risk_category_num == 1 else \"Low Risk\"\n",
    "    print(f\"Predicted Risk Category: {risk_category}\")\n",
    "\n",
    "    \n",
    "    generate_issues_report(risk_category)\n",
    "\n",
    "if __name__ == '__main__':\n",
    "    main()\n"
   ]
  },
  {
   "cell_type": "code",
   "execution_count": 17,
   "id": "12222575-0245-4435-90ec-692b9b559906",
   "metadata": {},
   "outputs": [],
   "source": [
    "def display_vital_signs_ml():\n",
    "    if os.path.isfile(FILE_NAME):\n",
    "        df = pd.read_csv(FILE_NAME)\n",
    "        print(\"\\nTracked Vital Signs:\")\n",
    "        print(df)\n",
    "    else:\n",
    "        print(\"No data tracked yet.\")\n"
   ]
  },
  {
   "cell_type": "code",
   "execution_count": 16,
   "id": "ddadc0c0-1ebf-45ca-9011-f193962a2f72",
   "metadata": {},
   "outputs": [
    {
     "name": "stdout",
     "output_type": "stream",
     "text": [
      "Dataset columns: ['Patient ID', 'Heart Rate', 'Respiratory Rate', 'Timestamp', 'Body Temperature', 'Oxygen Saturation', 'Systolic Blood Pressure', 'Diastolic Blood Pressure', 'Age', 'Gender', 'Weight (kg)', 'Height (m)', 'Derived_HRV', 'Derived_Pulse_Pressure', 'Derived_BMI', 'Derived_MAP', 'Risk Category']\n",
      "First few rows of the dataset:\n",
      "   Patient ID  Heart Rate  Respiratory Rate Timestamp  Body Temperature  \\\n",
      "0           1          60                12   53:45.7         36.861707   \n",
      "1           2          63                18   52:45.7         36.511633   \n",
      "2           3          63                15   51:45.7         37.052049   \n",
      "3           4          99                16   50:45.7         36.654747   \n",
      "4           5          69                16   49:45.7         36.975098   \n",
      "\n",
      "   Oxygen Saturation  Systolic Blood Pressure  Diastolic Blood Pressure  Age  \\\n",
      "0          95.702046                      124                        86   37   \n",
      "1          96.689413                      126                        84   77   \n",
      "2          98.508265                      131                        78   68   \n",
      "3          95.011801                      118                        72   41   \n",
      "4          98.623792                      138                        76   25   \n",
      "\n",
      "   Gender  Weight (kg)  Height (m)  Derived_HRV  Derived_Pulse_Pressure  \\\n",
      "0  Female    91.541618    1.679351     0.121033                      38   \n",
      "1    Male    50.704921    1.992546     0.117062                      42   \n",
      "2  Female    90.316760    1.770228     0.053200                      53   \n",
      "3  Female    96.006188    1.833629     0.064475                      46   \n",
      "4  Female    56.020006    1.866419     0.118484                      62   \n",
      "\n",
      "   Derived_BMI  Derived_MAP Risk Category  \n",
      "0    32.459031    98.666667     High Risk  \n",
      "1    12.771246    98.000000     High Risk  \n",
      "2    28.821069    95.666667      Low Risk  \n",
      "3    28.554611    87.333333     High Risk  \n",
      "4    16.081438    96.666667     High Risk  \n",
      "Model accuracy: 0.63\n"
     ]
    },
    {
     "name": "stdin",
     "output_type": "stream",
     "text": [
      "Enter tracking duration in seconds:  10\n",
      "Enter Heart Rate (bpm):  78\n",
      "Enter Respiratory Rate (breaths/min):  79\n",
      "Enter Body Temperature (°C):  69\n",
      "Enter Oxygen Saturation (%):  69\n",
      "Enter Systolic Blood Pressure (mmHg):  69\n",
      "Enter Diastolic Blood Pressure (mmHg):  69\n"
     ]
    },
    {
     "name": "stderr",
     "output_type": "stream",
     "text": [
      "C:\\Users\\HP\\AppData\\Local\\Programs\\Python\\Python312\\Lib\\site-packages\\sklearn\\base.py:493: UserWarning: X does not have valid feature names, but LogisticRegression was fitted with feature names\n",
      "  warnings.warn(\n"
     ]
    },
    {
     "name": "stdout",
     "output_type": "stream",
     "text": [
      "Predicted Risk Category: Low Risk\n",
      "Monitoring completed!\n",
      "\n",
      "Tracked Vital Signs:\n",
      "              Timestamp  Heart Rate  Respiratory Rate  Body Temperature  \\\n",
      "0   2024-09-28 09:01:52          79                17             37.18   \n",
      "1   2024-09-28 09:02:02          81                19             36.54   \n",
      "2   2024-09-28 09:02:12          94                14             36.89   \n",
      "3   2024-09-28 09:02:22          78                12             37.66   \n",
      "4   2024-09-28 09:02:32          62                12             37.82   \n",
      "5   2024-09-28 09:02:42          64                17             36.28   \n",
      "6   2024-09-28 09:05:01          88                17             36.67   \n",
      "7   2024-09-28 09:05:11          67                18             36.11   \n",
      "8   2024-09-28 09:05:01          88                17             36.67   \n",
      "9   2024-09-28 09:05:11          67                18             36.11   \n",
      "10  2024-09-28 09:05:21          87                20             37.70   \n",
      "11  2024-09-28 09:05:01          88                17             36.67   \n",
      "12  2024-09-28 09:05:11          67                18             36.11   \n",
      "13  2024-09-28 09:05:21          87                20             37.70   \n",
      "14  2024-09-28 09:05:31          72                20             36.72   \n",
      "15  2024-09-28 09:05:01          88                17             36.67   \n",
      "16  2024-09-28 09:05:11          67                18             36.11   \n",
      "17  2024-09-28 09:05:21          87                20             37.70   \n",
      "18  2024-09-28 09:05:31          72                20             36.72   \n",
      "19  2024-09-28 09:05:41          71                20             36.78   \n",
      "20  2024-09-28 09:05:01          88                17             36.67   \n",
      "21  2024-09-28 09:05:11          67                18             36.11   \n",
      "22  2024-09-28 09:05:21          87                20             37.70   \n",
      "23  2024-09-28 09:05:31          72                20             36.72   \n",
      "24  2024-09-28 09:05:41          71                20             36.78   \n",
      "25  2024-09-28 09:05:51          81                19             37.57   \n",
      "26  2024-09-28 09:06:57         123                80             82.00   \n",
      "27  2024-09-28 09:27:28         100                70             75.00   \n",
      "28  2024-09-28 10:16:05          78                79             69.00   \n",
      "\n",
      "    Oxygen Saturation  Systolic BP  Diastolic BP    MAP Risk Category  \n",
      "0                  95          134            70  91.33     High Risk  \n",
      "1                  96          125            68  87.00      Low Risk  \n",
      "2                  99           94            73  80.00      Low Risk  \n",
      "3                  95          124            72  89.33      Low Risk  \n",
      "4                  98          116            89  98.00      Low Risk  \n",
      "5                  97          115            75  88.33      Low Risk  \n",
      "6                 100           98            64  75.33      Low Risk  \n",
      "7                  98          126            72  90.00      Low Risk  \n",
      "8                 100           98            64  75.33      Low Risk  \n",
      "9                  98          126            72  90.00      Low Risk  \n",
      "10                100          133            78  96.33     High Risk  \n",
      "11                100           98            64  75.33      Low Risk  \n",
      "12                 98          126            72  90.00      Low Risk  \n",
      "13                100          133            78  96.33     High Risk  \n",
      "14                 98          103            65  77.67      Low Risk  \n",
      "15                100           98            64  75.33      Low Risk  \n",
      "16                 98          126            72  90.00      Low Risk  \n",
      "17                100          133            78  96.33     High Risk  \n",
      "18                 98          103            65  77.67      Low Risk  \n",
      "19                 96          117            77  90.33      Low Risk  \n",
      "20                100           98            64  75.33      Low Risk  \n",
      "21                 98          126            72  90.00      Low Risk  \n",
      "22                100          133            78  96.33     High Risk  \n",
      "23                 98          103            65  77.67      Low Risk  \n",
      "24                 96          117            77  90.33      Low Risk  \n",
      "25                 98           91            89  89.67      Low Risk  \n",
      "26                 55           34            56  48.67     High Risk  \n",
      "27                 25           78            60  66.00      Low Risk  \n",
      "28                 69           69            69  69.00      Low Risk  \n"
     ]
    }
   ],
   "source": [
    "# Main function to train the model and start tracking\n",
    "def main():\n",
    "    # Train the ML model\n",
    "    model = train_ml_model()\n",
    "\n",
    "    # Start tracking vital signs using the trained ML model\n",
    "    track_duration = int(input(\"Enter tracking duration in seconds: \"))\n",
    "    track_vital_signs_ml(model, track_duration)\n",
    "    \n",
    "    # Display the tracked vital signs\n",
    "    display_vital_signs_ml()\n",
    "\n",
    "if __name__ == '__main__':\n",
    "    main()\n"
   ]
  },
  {
   "cell_type": "code",
   "execution_count": null,
   "id": "28b5a232-bf62-4724-a860-e7f17d54ef6e",
   "metadata": {},
   "outputs": [],
   "source": []
  }
 ],
 "metadata": {
  "kernelspec": {
   "display_name": "Python 3 (ipykernel)",
   "language": "python",
   "name": "python3"
  },
  "language_info": {
   "codemirror_mode": {
    "name": "ipython",
    "version": 3
   },
   "file_extension": ".py",
   "mimetype": "text/x-python",
   "name": "python",
   "nbconvert_exporter": "python",
   "pygments_lexer": "ipython3",
   "version": "3.12.4"
  }
 },
 "nbformat": 4,
 "nbformat_minor": 5
}
